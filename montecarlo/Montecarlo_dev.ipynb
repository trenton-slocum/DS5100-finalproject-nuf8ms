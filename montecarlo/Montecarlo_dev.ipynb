{
 "cells": [
  {
   "cell_type": "code",
   "execution_count": 1,
   "id": "3b4e9b9c-6e69-4772-a39b-2beaa3254293",
   "metadata": {
    "tags": []
   },
   "outputs": [],
   "source": [
    "import numpy as np\n",
    "import pandas as pd\n",
    "import itertools as it"
   ]
  },
  {
   "cell_type": "code",
   "execution_count": 2,
   "id": "3344b0fe-8445-4079-b8c0-2ee1e7236d16",
   "metadata": {
    "tags": []
   },
   "outputs": [],
   "source": [
    "class Die():\n",
    "    '''\n",
    "    Docstring\n",
    "    '''\n",
    "    def __init__(self, face_symbols):\n",
    "        \n",
    "        # Test for numpy array\n",
    "        if not isinstance(face_symbols, np.ndarray):\n",
    "            raise TypeError('Face Argument must be NumPy array')\n",
    "          \n",
    "        # Tests that array is strings or numbers\n",
    "        if face_symbols.dtype.char not in ['U', 'l', 'd']:\n",
    "            raise TypeError('Faces must be strings or numbers')\n",
    "        \n",
    "        # Tests for unique faces\n",
    "        if len(set(face_symbols)) != len(face_symbols):\n",
    "            raise ValueError('Face values must be distinct')\n",
    "        \n",
    "        # Initialize weights as 1.0 for each face\n",
    "        self.faces = face_symbols\n",
    "        self.weights = [1.0 for i in face_symbols]\n",
    "        \n",
    "        # Save faces and weights in private data frame\n",
    "        self._faces_weights = pd.DataFrame(self.weights, self.faces, columns=['weight'])\n",
    "        \n",
    "    def change_side_weight(self, face, new_weight):\n",
    "        '''\n",
    "        '''\n",
    "        if face not in self._faces_weights.index:\n",
    "            raise IndexError('That face does not exist on this die')\n",
    "        if type(new_weight) not in [int, float]:\n",
    "            raise ValueError('Weight is not a valid type')\n",
    "        \n",
    "        self._faces_weights.loc[face] = new_weight\n",
    "        \n",
    "    def roll(self, n = 1):\n",
    "        '''\n",
    "        '''\n",
    "        results = []\n",
    "        self.probs = [i/sum(self._faces_weights.weight) for i in self._faces_weights.weight]\n",
    "        \n",
    "        for i in range(n):\n",
    "            result = self._faces_weights.sample(weights = self.probs).index.values[0]\n",
    "            results.append(result)\n",
    "            \n",
    "        return results\n",
    "        \n",
    "    def current_state(self):\n",
    "        '''\n",
    "        '''\n",
    "        return self._faces_weights\n",
    "        \n",
    "class Game():\n",
    "    \n",
    "    def __init__(self, die_list):\n",
    "        self.die_list = die_list\n",
    "    \n",
    "    def play(self, n):\n",
    "        '''\n",
    "        '''\n",
    "        self.df_index = []\n",
    "        for i in range(n):\n",
    "            self.df_index.append('Roll ' + str(i + 1))\n",
    "        \n",
    "        self._play_results = pd.DataFrame([], self.df_index)\n",
    "        \n",
    "        for die in self.die_list:\n",
    "            self._play_results.insert(self.die_list.index(die), self.die_list.index(die) + 1, die.roll(n))\n",
    "    \n",
    "    def last_round(self, form = 'wide'):\n",
    "        '''\n",
    "        '''\n",
    "        if form == 'narrow':\n",
    "            return self._play_results.stack().to_frame('Value')\n",
    "        elif form == 'wide':\n",
    "            return self._play_results\n",
    "        else:\n",
    "            raise ValueError('Must request for a \"narrow\" or \"wide\" table')\n",
    "        \n",
    "class Analyzer():\n",
    "    def __init__(self, game_object):\n",
    "        if not isinstance(game_object, Game):\n",
    "            raise ValueError('Passed value is not a Game object')\n",
    "        \n",
    "        self.game = game_object\n",
    "        \n",
    "        self.outcome = game_object._play_results\n",
    "    \n",
    "    def jackpot(self):\n",
    "        '''\n",
    "        '''\n",
    "        count = 0\n",
    "        for i in self.outcome.nunique(axis=1) == 1:\n",
    "            if i == True:\n",
    "                count += 1\n",
    "        \n",
    "        return count\n",
    "    \n",
    "    def face_count(self):\n",
    "        '''\n",
    "        '''\n",
    "        return pd.DataFrame(self.outcome).apply(pd.Series.value_counts, axis = 1).fillna(0)\n",
    "    \n",
    "    def combo_count(self, sort = True):\n",
    "        '''\n",
    "        '''\n",
    "        sorted_outcome = self.outcome.apply(sorted, axis = 1, result_type = 'broadcast')\n",
    "        return sorted_outcome.value_counts(sort = sort).to_frame('Combination Count')\n",
    "    \n",
    "    def permutation_count(self, sort = True):\n",
    "        '''\n",
    "        '''\n",
    "        return self.outcome.value_counts(sort = sort).to_frame('Permutation Count')"
   ]
  },
  {
   "cell_type": "code",
   "execution_count": 3,
   "id": "63a067ea-8012-41e0-8799-87a666b32cf8",
   "metadata": {
    "tags": []
   },
   "outputs": [],
   "source": [
    "faces = np.array([1, 2, 3, 4, 5, 6])"
   ]
  },
  {
   "cell_type": "code",
   "execution_count": 4,
   "id": "a25cce7d-43ef-4a7b-b7cb-b1c699f94614",
   "metadata": {
    "tags": []
   },
   "outputs": [],
   "source": [
    "die1 = Die(faces)\n",
    "die2 = Die(faces)\n",
    "die3 = Die(faces)\n",
    "die4 = Die(faces)\n",
    "die5 = Die(faces)\n",
    "die6 = Die(faces)"
   ]
  },
  {
   "cell_type": "code",
   "execution_count": 5,
   "id": "b51c00d1-c151-46cc-b9e7-9a4fd61b940d",
   "metadata": {
    "tags": []
   },
   "outputs": [],
   "source": [
    "die_list = [die1, die2]"
   ]
  },
  {
   "cell_type": "code",
   "execution_count": 6,
   "id": "cf50718c-e3a3-4f82-b8cd-5cb6a189e92b",
   "metadata": {
    "tags": []
   },
   "outputs": [],
   "source": [
    "jeff = Game(die_list)"
   ]
  },
  {
   "cell_type": "code",
   "execution_count": 7,
   "id": "9ef8a522-a4d6-4b17-9919-648b5b65d463",
   "metadata": {
    "tags": []
   },
   "outputs": [
    {
     "data": {
      "text/html": [
       "<div>\n",
       "<style scoped>\n",
       "    .dataframe tbody tr th:only-of-type {\n",
       "        vertical-align: middle;\n",
       "    }\n",
       "\n",
       "    .dataframe tbody tr th {\n",
       "        vertical-align: top;\n",
       "    }\n",
       "\n",
       "    .dataframe thead th {\n",
       "        text-align: right;\n",
       "    }\n",
       "</style>\n",
       "<table border=\"1\" class=\"dataframe\">\n",
       "  <thead>\n",
       "    <tr style=\"text-align: right;\">\n",
       "      <th></th>\n",
       "      <th>weight</th>\n",
       "    </tr>\n",
       "  </thead>\n",
       "  <tbody>\n",
       "    <tr>\n",
       "      <th>1</th>\n",
       "      <td>1.0</td>\n",
       "    </tr>\n",
       "    <tr>\n",
       "      <th>2</th>\n",
       "      <td>1.0</td>\n",
       "    </tr>\n",
       "    <tr>\n",
       "      <th>3</th>\n",
       "      <td>1.0</td>\n",
       "    </tr>\n",
       "    <tr>\n",
       "      <th>4</th>\n",
       "      <td>1.0</td>\n",
       "    </tr>\n",
       "    <tr>\n",
       "      <th>5</th>\n",
       "      <td>1.0</td>\n",
       "    </tr>\n",
       "    <tr>\n",
       "      <th>6</th>\n",
       "      <td>1.0</td>\n",
       "    </tr>\n",
       "  </tbody>\n",
       "</table>\n",
       "</div>"
      ],
      "text/plain": [
       "   weight\n",
       "1     1.0\n",
       "2     1.0\n",
       "3     1.0\n",
       "4     1.0\n",
       "5     1.0\n",
       "6     1.0"
      ]
     },
     "execution_count": 7,
     "metadata": {},
     "output_type": "execute_result"
    }
   ],
   "source": [
    "die1.current_state()"
   ]
  },
  {
   "cell_type": "code",
   "execution_count": 8,
   "id": "1853c2cc-c951-4b06-9b30-e82234e41080",
   "metadata": {},
   "outputs": [],
   "source": [
    "jeff.play(20)"
   ]
  },
  {
   "cell_type": "code",
   "execution_count": 9,
   "id": "da8f3880-7e22-4b62-8cfa-60b7289d9682",
   "metadata": {
    "tags": []
   },
   "outputs": [
    {
     "data": {
      "text/html": [
       "<div>\n",
       "<style scoped>\n",
       "    .dataframe tbody tr th:only-of-type {\n",
       "        vertical-align: middle;\n",
       "    }\n",
       "\n",
       "    .dataframe tbody tr th {\n",
       "        vertical-align: top;\n",
       "    }\n",
       "\n",
       "    .dataframe thead th {\n",
       "        text-align: right;\n",
       "    }\n",
       "</style>\n",
       "<table border=\"1\" class=\"dataframe\">\n",
       "  <thead>\n",
       "    <tr style=\"text-align: right;\">\n",
       "      <th></th>\n",
       "      <th>1</th>\n",
       "      <th>2</th>\n",
       "    </tr>\n",
       "  </thead>\n",
       "  <tbody>\n",
       "    <tr>\n",
       "      <th>Roll 1</th>\n",
       "      <td>6</td>\n",
       "      <td>3</td>\n",
       "    </tr>\n",
       "    <tr>\n",
       "      <th>Roll 2</th>\n",
       "      <td>4</td>\n",
       "      <td>5</td>\n",
       "    </tr>\n",
       "    <tr>\n",
       "      <th>Roll 3</th>\n",
       "      <td>4</td>\n",
       "      <td>1</td>\n",
       "    </tr>\n",
       "    <tr>\n",
       "      <th>Roll 4</th>\n",
       "      <td>1</td>\n",
       "      <td>4</td>\n",
       "    </tr>\n",
       "    <tr>\n",
       "      <th>Roll 5</th>\n",
       "      <td>6</td>\n",
       "      <td>4</td>\n",
       "    </tr>\n",
       "    <tr>\n",
       "      <th>Roll 6</th>\n",
       "      <td>5</td>\n",
       "      <td>2</td>\n",
       "    </tr>\n",
       "    <tr>\n",
       "      <th>Roll 7</th>\n",
       "      <td>5</td>\n",
       "      <td>5</td>\n",
       "    </tr>\n",
       "    <tr>\n",
       "      <th>Roll 8</th>\n",
       "      <td>6</td>\n",
       "      <td>1</td>\n",
       "    </tr>\n",
       "    <tr>\n",
       "      <th>Roll 9</th>\n",
       "      <td>5</td>\n",
       "      <td>4</td>\n",
       "    </tr>\n",
       "    <tr>\n",
       "      <th>Roll 10</th>\n",
       "      <td>3</td>\n",
       "      <td>4</td>\n",
       "    </tr>\n",
       "    <tr>\n",
       "      <th>Roll 11</th>\n",
       "      <td>2</td>\n",
       "      <td>5</td>\n",
       "    </tr>\n",
       "    <tr>\n",
       "      <th>Roll 12</th>\n",
       "      <td>2</td>\n",
       "      <td>4</td>\n",
       "    </tr>\n",
       "    <tr>\n",
       "      <th>Roll 13</th>\n",
       "      <td>2</td>\n",
       "      <td>2</td>\n",
       "    </tr>\n",
       "    <tr>\n",
       "      <th>Roll 14</th>\n",
       "      <td>3</td>\n",
       "      <td>5</td>\n",
       "    </tr>\n",
       "    <tr>\n",
       "      <th>Roll 15</th>\n",
       "      <td>2</td>\n",
       "      <td>6</td>\n",
       "    </tr>\n",
       "    <tr>\n",
       "      <th>Roll 16</th>\n",
       "      <td>5</td>\n",
       "      <td>1</td>\n",
       "    </tr>\n",
       "    <tr>\n",
       "      <th>Roll 17</th>\n",
       "      <td>5</td>\n",
       "      <td>3</td>\n",
       "    </tr>\n",
       "    <tr>\n",
       "      <th>Roll 18</th>\n",
       "      <td>3</td>\n",
       "      <td>3</td>\n",
       "    </tr>\n",
       "    <tr>\n",
       "      <th>Roll 19</th>\n",
       "      <td>6</td>\n",
       "      <td>6</td>\n",
       "    </tr>\n",
       "    <tr>\n",
       "      <th>Roll 20</th>\n",
       "      <td>4</td>\n",
       "      <td>2</td>\n",
       "    </tr>\n",
       "  </tbody>\n",
       "</table>\n",
       "</div>"
      ],
      "text/plain": [
       "         1  2\n",
       "Roll 1   6  3\n",
       "Roll 2   4  5\n",
       "Roll 3   4  1\n",
       "Roll 4   1  4\n",
       "Roll 5   6  4\n",
       "Roll 6   5  2\n",
       "Roll 7   5  5\n",
       "Roll 8   6  1\n",
       "Roll 9   5  4\n",
       "Roll 10  3  4\n",
       "Roll 11  2  5\n",
       "Roll 12  2  4\n",
       "Roll 13  2  2\n",
       "Roll 14  3  5\n",
       "Roll 15  2  6\n",
       "Roll 16  5  1\n",
       "Roll 17  5  3\n",
       "Roll 18  3  3\n",
       "Roll 19  6  6\n",
       "Roll 20  4  2"
      ]
     },
     "execution_count": 9,
     "metadata": {},
     "output_type": "execute_result"
    }
   ],
   "source": [
    "jeff._play_results"
   ]
  },
  {
   "cell_type": "code",
   "execution_count": 10,
   "id": "5233a9dd-f16a-4315-8d49-d1c401044b7b",
   "metadata": {
    "tags": []
   },
   "outputs": [
    {
     "data": {
      "text/html": [
       "<div>\n",
       "<style scoped>\n",
       "    .dataframe tbody tr th:only-of-type {\n",
       "        vertical-align: middle;\n",
       "    }\n",
       "\n",
       "    .dataframe tbody tr th {\n",
       "        vertical-align: top;\n",
       "    }\n",
       "\n",
       "    .dataframe thead th {\n",
       "        text-align: right;\n",
       "    }\n",
       "</style>\n",
       "<table border=\"1\" class=\"dataframe\">\n",
       "  <thead>\n",
       "    <tr style=\"text-align: right;\">\n",
       "      <th></th>\n",
       "      <th>1</th>\n",
       "      <th>2</th>\n",
       "    </tr>\n",
       "  </thead>\n",
       "  <tbody>\n",
       "    <tr>\n",
       "      <th>Roll 1</th>\n",
       "      <td>6</td>\n",
       "      <td>3</td>\n",
       "    </tr>\n",
       "    <tr>\n",
       "      <th>Roll 2</th>\n",
       "      <td>4</td>\n",
       "      <td>5</td>\n",
       "    </tr>\n",
       "    <tr>\n",
       "      <th>Roll 3</th>\n",
       "      <td>4</td>\n",
       "      <td>1</td>\n",
       "    </tr>\n",
       "    <tr>\n",
       "      <th>Roll 4</th>\n",
       "      <td>1</td>\n",
       "      <td>4</td>\n",
       "    </tr>\n",
       "    <tr>\n",
       "      <th>Roll 5</th>\n",
       "      <td>6</td>\n",
       "      <td>4</td>\n",
       "    </tr>\n",
       "    <tr>\n",
       "      <th>Roll 6</th>\n",
       "      <td>5</td>\n",
       "      <td>2</td>\n",
       "    </tr>\n",
       "    <tr>\n",
       "      <th>Roll 7</th>\n",
       "      <td>5</td>\n",
       "      <td>5</td>\n",
       "    </tr>\n",
       "    <tr>\n",
       "      <th>Roll 8</th>\n",
       "      <td>6</td>\n",
       "      <td>1</td>\n",
       "    </tr>\n",
       "    <tr>\n",
       "      <th>Roll 9</th>\n",
       "      <td>5</td>\n",
       "      <td>4</td>\n",
       "    </tr>\n",
       "    <tr>\n",
       "      <th>Roll 10</th>\n",
       "      <td>3</td>\n",
       "      <td>4</td>\n",
       "    </tr>\n",
       "    <tr>\n",
       "      <th>Roll 11</th>\n",
       "      <td>2</td>\n",
       "      <td>5</td>\n",
       "    </tr>\n",
       "    <tr>\n",
       "      <th>Roll 12</th>\n",
       "      <td>2</td>\n",
       "      <td>4</td>\n",
       "    </tr>\n",
       "    <tr>\n",
       "      <th>Roll 13</th>\n",
       "      <td>2</td>\n",
       "      <td>2</td>\n",
       "    </tr>\n",
       "    <tr>\n",
       "      <th>Roll 14</th>\n",
       "      <td>3</td>\n",
       "      <td>5</td>\n",
       "    </tr>\n",
       "    <tr>\n",
       "      <th>Roll 15</th>\n",
       "      <td>2</td>\n",
       "      <td>6</td>\n",
       "    </tr>\n",
       "    <tr>\n",
       "      <th>Roll 16</th>\n",
       "      <td>5</td>\n",
       "      <td>1</td>\n",
       "    </tr>\n",
       "    <tr>\n",
       "      <th>Roll 17</th>\n",
       "      <td>5</td>\n",
       "      <td>3</td>\n",
       "    </tr>\n",
       "    <tr>\n",
       "      <th>Roll 18</th>\n",
       "      <td>3</td>\n",
       "      <td>3</td>\n",
       "    </tr>\n",
       "    <tr>\n",
       "      <th>Roll 19</th>\n",
       "      <td>6</td>\n",
       "      <td>6</td>\n",
       "    </tr>\n",
       "    <tr>\n",
       "      <th>Roll 20</th>\n",
       "      <td>4</td>\n",
       "      <td>2</td>\n",
       "    </tr>\n",
       "  </tbody>\n",
       "</table>\n",
       "</div>"
      ],
      "text/plain": [
       "         1  2\n",
       "Roll 1   6  3\n",
       "Roll 2   4  5\n",
       "Roll 3   4  1\n",
       "Roll 4   1  4\n",
       "Roll 5   6  4\n",
       "Roll 6   5  2\n",
       "Roll 7   5  5\n",
       "Roll 8   6  1\n",
       "Roll 9   5  4\n",
       "Roll 10  3  4\n",
       "Roll 11  2  5\n",
       "Roll 12  2  4\n",
       "Roll 13  2  2\n",
       "Roll 14  3  5\n",
       "Roll 15  2  6\n",
       "Roll 16  5  1\n",
       "Roll 17  5  3\n",
       "Roll 18  3  3\n",
       "Roll 19  6  6\n",
       "Roll 20  4  2"
      ]
     },
     "execution_count": 10,
     "metadata": {},
     "output_type": "execute_result"
    }
   ],
   "source": [
    "jeff.last_round()"
   ]
  },
  {
   "cell_type": "code",
   "execution_count": 11,
   "id": "3a7ad1a3-428b-4e53-bda3-587e6de3b71d",
   "metadata": {
    "tags": []
   },
   "outputs": [],
   "source": [
    "jeff_analyzer = Analyzer(jeff)"
   ]
  },
  {
   "cell_type": "code",
   "execution_count": 12,
   "id": "ee2632aa-a66c-43f5-a8c0-9fa3b81faab0",
   "metadata": {
    "tags": []
   },
   "outputs": [
    {
     "data": {
      "text/plain": [
       "4"
      ]
     },
     "execution_count": 12,
     "metadata": {},
     "output_type": "execute_result"
    }
   ],
   "source": [
    "jeff_analyzer.jackpot()"
   ]
  },
  {
   "cell_type": "code",
   "execution_count": 13,
   "id": "986a55b6-0ae5-40f4-a44d-5697bd74d08b",
   "metadata": {
    "tags": []
   },
   "outputs": [
    {
     "data": {
      "text/html": [
       "<div>\n",
       "<style scoped>\n",
       "    .dataframe tbody tr th:only-of-type {\n",
       "        vertical-align: middle;\n",
       "    }\n",
       "\n",
       "    .dataframe tbody tr th {\n",
       "        vertical-align: top;\n",
       "    }\n",
       "\n",
       "    .dataframe thead th {\n",
       "        text-align: right;\n",
       "    }\n",
       "</style>\n",
       "<table border=\"1\" class=\"dataframe\">\n",
       "  <thead>\n",
       "    <tr style=\"text-align: right;\">\n",
       "      <th></th>\n",
       "      <th>1</th>\n",
       "      <th>2</th>\n",
       "      <th>3</th>\n",
       "      <th>4</th>\n",
       "      <th>5</th>\n",
       "      <th>6</th>\n",
       "    </tr>\n",
       "  </thead>\n",
       "  <tbody>\n",
       "    <tr>\n",
       "      <th>Roll 1</th>\n",
       "      <td>0.0</td>\n",
       "      <td>0.0</td>\n",
       "      <td>1.0</td>\n",
       "      <td>0.0</td>\n",
       "      <td>0.0</td>\n",
       "      <td>1.0</td>\n",
       "    </tr>\n",
       "    <tr>\n",
       "      <th>Roll 2</th>\n",
       "      <td>0.0</td>\n",
       "      <td>0.0</td>\n",
       "      <td>0.0</td>\n",
       "      <td>1.0</td>\n",
       "      <td>1.0</td>\n",
       "      <td>0.0</td>\n",
       "    </tr>\n",
       "    <tr>\n",
       "      <th>Roll 3</th>\n",
       "      <td>1.0</td>\n",
       "      <td>0.0</td>\n",
       "      <td>0.0</td>\n",
       "      <td>1.0</td>\n",
       "      <td>0.0</td>\n",
       "      <td>0.0</td>\n",
       "    </tr>\n",
       "    <tr>\n",
       "      <th>Roll 4</th>\n",
       "      <td>1.0</td>\n",
       "      <td>0.0</td>\n",
       "      <td>0.0</td>\n",
       "      <td>1.0</td>\n",
       "      <td>0.0</td>\n",
       "      <td>0.0</td>\n",
       "    </tr>\n",
       "    <tr>\n",
       "      <th>Roll 5</th>\n",
       "      <td>0.0</td>\n",
       "      <td>0.0</td>\n",
       "      <td>0.0</td>\n",
       "      <td>1.0</td>\n",
       "      <td>0.0</td>\n",
       "      <td>1.0</td>\n",
       "    </tr>\n",
       "    <tr>\n",
       "      <th>Roll 6</th>\n",
       "      <td>0.0</td>\n",
       "      <td>1.0</td>\n",
       "      <td>0.0</td>\n",
       "      <td>0.0</td>\n",
       "      <td>1.0</td>\n",
       "      <td>0.0</td>\n",
       "    </tr>\n",
       "    <tr>\n",
       "      <th>Roll 7</th>\n",
       "      <td>0.0</td>\n",
       "      <td>0.0</td>\n",
       "      <td>0.0</td>\n",
       "      <td>0.0</td>\n",
       "      <td>2.0</td>\n",
       "      <td>0.0</td>\n",
       "    </tr>\n",
       "    <tr>\n",
       "      <th>Roll 8</th>\n",
       "      <td>1.0</td>\n",
       "      <td>0.0</td>\n",
       "      <td>0.0</td>\n",
       "      <td>0.0</td>\n",
       "      <td>0.0</td>\n",
       "      <td>1.0</td>\n",
       "    </tr>\n",
       "    <tr>\n",
       "      <th>Roll 9</th>\n",
       "      <td>0.0</td>\n",
       "      <td>0.0</td>\n",
       "      <td>0.0</td>\n",
       "      <td>1.0</td>\n",
       "      <td>1.0</td>\n",
       "      <td>0.0</td>\n",
       "    </tr>\n",
       "    <tr>\n",
       "      <th>Roll 10</th>\n",
       "      <td>0.0</td>\n",
       "      <td>0.0</td>\n",
       "      <td>1.0</td>\n",
       "      <td>1.0</td>\n",
       "      <td>0.0</td>\n",
       "      <td>0.0</td>\n",
       "    </tr>\n",
       "    <tr>\n",
       "      <th>Roll 11</th>\n",
       "      <td>0.0</td>\n",
       "      <td>1.0</td>\n",
       "      <td>0.0</td>\n",
       "      <td>0.0</td>\n",
       "      <td>1.0</td>\n",
       "      <td>0.0</td>\n",
       "    </tr>\n",
       "    <tr>\n",
       "      <th>Roll 12</th>\n",
       "      <td>0.0</td>\n",
       "      <td>1.0</td>\n",
       "      <td>0.0</td>\n",
       "      <td>1.0</td>\n",
       "      <td>0.0</td>\n",
       "      <td>0.0</td>\n",
       "    </tr>\n",
       "    <tr>\n",
       "      <th>Roll 13</th>\n",
       "      <td>0.0</td>\n",
       "      <td>2.0</td>\n",
       "      <td>0.0</td>\n",
       "      <td>0.0</td>\n",
       "      <td>0.0</td>\n",
       "      <td>0.0</td>\n",
       "    </tr>\n",
       "    <tr>\n",
       "      <th>Roll 14</th>\n",
       "      <td>0.0</td>\n",
       "      <td>0.0</td>\n",
       "      <td>1.0</td>\n",
       "      <td>0.0</td>\n",
       "      <td>1.0</td>\n",
       "      <td>0.0</td>\n",
       "    </tr>\n",
       "    <tr>\n",
       "      <th>Roll 15</th>\n",
       "      <td>0.0</td>\n",
       "      <td>1.0</td>\n",
       "      <td>0.0</td>\n",
       "      <td>0.0</td>\n",
       "      <td>0.0</td>\n",
       "      <td>1.0</td>\n",
       "    </tr>\n",
       "    <tr>\n",
       "      <th>Roll 16</th>\n",
       "      <td>1.0</td>\n",
       "      <td>0.0</td>\n",
       "      <td>0.0</td>\n",
       "      <td>0.0</td>\n",
       "      <td>1.0</td>\n",
       "      <td>0.0</td>\n",
       "    </tr>\n",
       "    <tr>\n",
       "      <th>Roll 17</th>\n",
       "      <td>0.0</td>\n",
       "      <td>0.0</td>\n",
       "      <td>1.0</td>\n",
       "      <td>0.0</td>\n",
       "      <td>1.0</td>\n",
       "      <td>0.0</td>\n",
       "    </tr>\n",
       "    <tr>\n",
       "      <th>Roll 18</th>\n",
       "      <td>0.0</td>\n",
       "      <td>0.0</td>\n",
       "      <td>2.0</td>\n",
       "      <td>0.0</td>\n",
       "      <td>0.0</td>\n",
       "      <td>0.0</td>\n",
       "    </tr>\n",
       "    <tr>\n",
       "      <th>Roll 19</th>\n",
       "      <td>0.0</td>\n",
       "      <td>0.0</td>\n",
       "      <td>0.0</td>\n",
       "      <td>0.0</td>\n",
       "      <td>0.0</td>\n",
       "      <td>2.0</td>\n",
       "    </tr>\n",
       "    <tr>\n",
       "      <th>Roll 20</th>\n",
       "      <td>0.0</td>\n",
       "      <td>1.0</td>\n",
       "      <td>0.0</td>\n",
       "      <td>1.0</td>\n",
       "      <td>0.0</td>\n",
       "      <td>0.0</td>\n",
       "    </tr>\n",
       "  </tbody>\n",
       "</table>\n",
       "</div>"
      ],
      "text/plain": [
       "           1    2    3    4    5    6\n",
       "Roll 1   0.0  0.0  1.0  0.0  0.0  1.0\n",
       "Roll 2   0.0  0.0  0.0  1.0  1.0  0.0\n",
       "Roll 3   1.0  0.0  0.0  1.0  0.0  0.0\n",
       "Roll 4   1.0  0.0  0.0  1.0  0.0  0.0\n",
       "Roll 5   0.0  0.0  0.0  1.0  0.0  1.0\n",
       "Roll 6   0.0  1.0  0.0  0.0  1.0  0.0\n",
       "Roll 7   0.0  0.0  0.0  0.0  2.0  0.0\n",
       "Roll 8   1.0  0.0  0.0  0.0  0.0  1.0\n",
       "Roll 9   0.0  0.0  0.0  1.0  1.0  0.0\n",
       "Roll 10  0.0  0.0  1.0  1.0  0.0  0.0\n",
       "Roll 11  0.0  1.0  0.0  0.0  1.0  0.0\n",
       "Roll 12  0.0  1.0  0.0  1.0  0.0  0.0\n",
       "Roll 13  0.0  2.0  0.0  0.0  0.0  0.0\n",
       "Roll 14  0.0  0.0  1.0  0.0  1.0  0.0\n",
       "Roll 15  0.0  1.0  0.0  0.0  0.0  1.0\n",
       "Roll 16  1.0  0.0  0.0  0.0  1.0  0.0\n",
       "Roll 17  0.0  0.0  1.0  0.0  1.0  0.0\n",
       "Roll 18  0.0  0.0  2.0  0.0  0.0  0.0\n",
       "Roll 19  0.0  0.0  0.0  0.0  0.0  2.0\n",
       "Roll 20  0.0  1.0  0.0  1.0  0.0  0.0"
      ]
     },
     "execution_count": 13,
     "metadata": {},
     "output_type": "execute_result"
    }
   ],
   "source": [
    "jeff_analyzer.face_count()"
   ]
  },
  {
   "cell_type": "code",
   "execution_count": 16,
   "id": "00ee21f2-9236-491e-a467-e938c23c5d3d",
   "metadata": {},
   "outputs": [
    {
     "data": {
      "text/html": [
       "<div>\n",
       "<style scoped>\n",
       "    .dataframe tbody tr th:only-of-type {\n",
       "        vertical-align: middle;\n",
       "    }\n",
       "\n",
       "    .dataframe tbody tr th {\n",
       "        vertical-align: top;\n",
       "    }\n",
       "\n",
       "    .dataframe thead th {\n",
       "        text-align: right;\n",
       "    }\n",
       "</style>\n",
       "<table border=\"1\" class=\"dataframe\">\n",
       "  <thead>\n",
       "    <tr style=\"text-align: right;\">\n",
       "      <th></th>\n",
       "      <th></th>\n",
       "      <th>Permutation Count</th>\n",
       "    </tr>\n",
       "    <tr>\n",
       "      <th>1</th>\n",
       "      <th>2</th>\n",
       "      <th></th>\n",
       "    </tr>\n",
       "  </thead>\n",
       "  <tbody>\n",
       "    <tr>\n",
       "      <th>1</th>\n",
       "      <th>4</th>\n",
       "      <td>1</td>\n",
       "    </tr>\n",
       "    <tr>\n",
       "      <th rowspan=\"4\" valign=\"top\">2</th>\n",
       "      <th>2</th>\n",
       "      <td>1</td>\n",
       "    </tr>\n",
       "    <tr>\n",
       "      <th>4</th>\n",
       "      <td>1</td>\n",
       "    </tr>\n",
       "    <tr>\n",
       "      <th>5</th>\n",
       "      <td>1</td>\n",
       "    </tr>\n",
       "    <tr>\n",
       "      <th>6</th>\n",
       "      <td>1</td>\n",
       "    </tr>\n",
       "    <tr>\n",
       "      <th rowspan=\"3\" valign=\"top\">3</th>\n",
       "      <th>3</th>\n",
       "      <td>1</td>\n",
       "    </tr>\n",
       "    <tr>\n",
       "      <th>4</th>\n",
       "      <td>1</td>\n",
       "    </tr>\n",
       "    <tr>\n",
       "      <th>5</th>\n",
       "      <td>1</td>\n",
       "    </tr>\n",
       "    <tr>\n",
       "      <th rowspan=\"3\" valign=\"top\">4</th>\n",
       "      <th>1</th>\n",
       "      <td>1</td>\n",
       "    </tr>\n",
       "    <tr>\n",
       "      <th>2</th>\n",
       "      <td>1</td>\n",
       "    </tr>\n",
       "    <tr>\n",
       "      <th>5</th>\n",
       "      <td>1</td>\n",
       "    </tr>\n",
       "    <tr>\n",
       "      <th rowspan=\"5\" valign=\"top\">5</th>\n",
       "      <th>1</th>\n",
       "      <td>1</td>\n",
       "    </tr>\n",
       "    <tr>\n",
       "      <th>2</th>\n",
       "      <td>1</td>\n",
       "    </tr>\n",
       "    <tr>\n",
       "      <th>3</th>\n",
       "      <td>1</td>\n",
       "    </tr>\n",
       "    <tr>\n",
       "      <th>4</th>\n",
       "      <td>1</td>\n",
       "    </tr>\n",
       "    <tr>\n",
       "      <th>5</th>\n",
       "      <td>1</td>\n",
       "    </tr>\n",
       "    <tr>\n",
       "      <th rowspan=\"4\" valign=\"top\">6</th>\n",
       "      <th>1</th>\n",
       "      <td>1</td>\n",
       "    </tr>\n",
       "    <tr>\n",
       "      <th>3</th>\n",
       "      <td>1</td>\n",
       "    </tr>\n",
       "    <tr>\n",
       "      <th>4</th>\n",
       "      <td>1</td>\n",
       "    </tr>\n",
       "    <tr>\n",
       "      <th>6</th>\n",
       "      <td>1</td>\n",
       "    </tr>\n",
       "  </tbody>\n",
       "</table>\n",
       "</div>"
      ],
      "text/plain": [
       "     Permutation Count\n",
       "1 2                   \n",
       "1 4                  1\n",
       "2 2                  1\n",
       "  4                  1\n",
       "  5                  1\n",
       "  6                  1\n",
       "3 3                  1\n",
       "  4                  1\n",
       "  5                  1\n",
       "4 1                  1\n",
       "  2                  1\n",
       "  5                  1\n",
       "5 1                  1\n",
       "  2                  1\n",
       "  3                  1\n",
       "  4                  1\n",
       "  5                  1\n",
       "6 1                  1\n",
       "  3                  1\n",
       "  4                  1\n",
       "  6                  1"
      ]
     },
     "execution_count": 16,
     "metadata": {},
     "output_type": "execute_result"
    }
   ],
   "source": [
    "jeff_analyzer.permutation_count(False)"
   ]
  },
  {
   "cell_type": "code",
   "execution_count": 17,
   "id": "7a930a68-78e6-479a-9f0c-d90f2164140d",
   "metadata": {
    "tags": []
   },
   "outputs": [
    {
     "data": {
      "text/html": [
       "<div>\n",
       "<style scoped>\n",
       "    .dataframe tbody tr th:only-of-type {\n",
       "        vertical-align: middle;\n",
       "    }\n",
       "\n",
       "    .dataframe tbody tr th {\n",
       "        vertical-align: top;\n",
       "    }\n",
       "\n",
       "    .dataframe thead th {\n",
       "        text-align: right;\n",
       "    }\n",
       "</style>\n",
       "<table border=\"1\" class=\"dataframe\">\n",
       "  <thead>\n",
       "    <tr style=\"text-align: right;\">\n",
       "      <th></th>\n",
       "      <th></th>\n",
       "      <th>Combination Count</th>\n",
       "    </tr>\n",
       "    <tr>\n",
       "      <th>1</th>\n",
       "      <th>2</th>\n",
       "      <th></th>\n",
       "    </tr>\n",
       "  </thead>\n",
       "  <tbody>\n",
       "    <tr>\n",
       "      <th rowspan=\"3\" valign=\"top\">1</th>\n",
       "      <th>4</th>\n",
       "      <td>2</td>\n",
       "    </tr>\n",
       "    <tr>\n",
       "      <th>5</th>\n",
       "      <td>1</td>\n",
       "    </tr>\n",
       "    <tr>\n",
       "      <th>6</th>\n",
       "      <td>1</td>\n",
       "    </tr>\n",
       "    <tr>\n",
       "      <th rowspan=\"4\" valign=\"top\">2</th>\n",
       "      <th>2</th>\n",
       "      <td>1</td>\n",
       "    </tr>\n",
       "    <tr>\n",
       "      <th>4</th>\n",
       "      <td>2</td>\n",
       "    </tr>\n",
       "    <tr>\n",
       "      <th>5</th>\n",
       "      <td>2</td>\n",
       "    </tr>\n",
       "    <tr>\n",
       "      <th>6</th>\n",
       "      <td>1</td>\n",
       "    </tr>\n",
       "    <tr>\n",
       "      <th rowspan=\"4\" valign=\"top\">3</th>\n",
       "      <th>3</th>\n",
       "      <td>1</td>\n",
       "    </tr>\n",
       "    <tr>\n",
       "      <th>4</th>\n",
       "      <td>1</td>\n",
       "    </tr>\n",
       "    <tr>\n",
       "      <th>5</th>\n",
       "      <td>2</td>\n",
       "    </tr>\n",
       "    <tr>\n",
       "      <th>6</th>\n",
       "      <td>1</td>\n",
       "    </tr>\n",
       "    <tr>\n",
       "      <th rowspan=\"2\" valign=\"top\">4</th>\n",
       "      <th>5</th>\n",
       "      <td>2</td>\n",
       "    </tr>\n",
       "    <tr>\n",
       "      <th>6</th>\n",
       "      <td>1</td>\n",
       "    </tr>\n",
       "    <tr>\n",
       "      <th>5</th>\n",
       "      <th>5</th>\n",
       "      <td>1</td>\n",
       "    </tr>\n",
       "    <tr>\n",
       "      <th>6</th>\n",
       "      <th>6</th>\n",
       "      <td>1</td>\n",
       "    </tr>\n",
       "  </tbody>\n",
       "</table>\n",
       "</div>"
      ],
      "text/plain": [
       "     Combination Count\n",
       "1 2                   \n",
       "1 4                  2\n",
       "  5                  1\n",
       "  6                  1\n",
       "2 2                  1\n",
       "  4                  2\n",
       "  5                  2\n",
       "  6                  1\n",
       "3 3                  1\n",
       "  4                  1\n",
       "  5                  2\n",
       "  6                  1\n",
       "4 5                  2\n",
       "  6                  1\n",
       "5 5                  1\n",
       "6 6                  1"
      ]
     },
     "execution_count": 17,
     "metadata": {},
     "output_type": "execute_result"
    }
   ],
   "source": [
    "jeff_analyzer.combo_count(False)"
   ]
  },
  {
   "cell_type": "code",
   "execution_count": 116,
   "id": "08ee5965-df50-4fd8-9565-60b537874142",
   "metadata": {
    "tags": []
   },
   "outputs": [
    {
     "data": {
      "text/plain": [
       "True"
      ]
     },
     "execution_count": 116,
     "metadata": {},
     "output_type": "execute_result"
    }
   ],
   "source": [
    "die1 = Die(np.array([1, 2, 3]))\n",
    "        \n",
    "expected = pd.DataFrame([1.0, 1.0, 1.0], [1, 2, 3], columns = ['weight'])\n",
    "\n",
    "die1.current_state().equals(expected)\n"
   ]
  },
  {
   "cell_type": "code",
   "execution_count": 148,
   "id": "156bb9b7-5250-4895-af6c-6a9d5a853e71",
   "metadata": {
    "tags": []
   },
   "outputs": [
    {
     "data": {
      "text/html": [
       "<div>\n",
       "<style scoped>\n",
       "    .dataframe tbody tr th:only-of-type {\n",
       "        vertical-align: middle;\n",
       "    }\n",
       "\n",
       "    .dataframe tbody tr th {\n",
       "        vertical-align: top;\n",
       "    }\n",
       "\n",
       "    .dataframe thead th {\n",
       "        text-align: right;\n",
       "    }\n",
       "</style>\n",
       "<table border=\"1\" class=\"dataframe\">\n",
       "  <thead>\n",
       "    <tr style=\"text-align: right;\">\n",
       "      <th></th>\n",
       "      <th>1</th>\n",
       "      <th>2</th>\n",
       "    </tr>\n",
       "  </thead>\n",
       "  <tbody>\n",
       "    <tr>\n",
       "      <th>Roll 1</th>\n",
       "      <td>2</td>\n",
       "      <td>2</td>\n",
       "    </tr>\n",
       "    <tr>\n",
       "      <th>Roll 2</th>\n",
       "      <td>2</td>\n",
       "      <td>2</td>\n",
       "    </tr>\n",
       "    <tr>\n",
       "      <th>Roll 3</th>\n",
       "      <td>1</td>\n",
       "      <td>1</td>\n",
       "    </tr>\n",
       "  </tbody>\n",
       "</table>\n",
       "</div>"
      ],
      "text/plain": [
       "        1  2\n",
       "Roll 1  2  2\n",
       "Roll 2  2  2\n",
       "Roll 3  1  1"
      ]
     },
     "execution_count": 148,
     "metadata": {},
     "output_type": "execute_result"
    }
   ],
   "source": [
    "die1 = Die(np.array([1, 2, 3]))\n",
    "die2 = Die(np.array([1, 2, 3]))\n",
    "die_list = [die1, die2]\n",
    "        \n",
    "game1 = Game(die_list)\n",
    "game1.play(3)\n",
    "Analyzer(game1).outcome"
   ]
  },
  {
   "cell_type": "code",
   "execution_count": 150,
   "id": "b87fd34e-d087-4305-aee0-af56618c098b",
   "metadata": {
    "tags": []
   },
   "outputs": [
    {
     "ename": "ValueError",
     "evalue": "Passed value is not a Game object",
     "output_type": "error",
     "traceback": [
      "\u001b[0;31m---------------------------------------------------------------------------\u001b[0m",
      "\u001b[0;31mValueError\u001b[0m                                Traceback (most recent call last)",
      "Cell \u001b[0;32mIn[150], line 2\u001b[0m\n\u001b[1;32m      1\u001b[0m game \u001b[38;5;241m=\u001b[39m \u001b[38;5;241m5\u001b[39m\n\u001b[0;32m----> 2\u001b[0m \u001b[43mAnalyzer\u001b[49m\u001b[43m(\u001b[49m\u001b[43mgame\u001b[49m\u001b[43m)\u001b[49m\n",
      "Cell \u001b[0;32mIn[93], line 73\u001b[0m, in \u001b[0;36mAnalyzer.__init__\u001b[0;34m(self, game_object)\u001b[0m\n\u001b[1;32m     71\u001b[0m \u001b[38;5;28;01mdef\u001b[39;00m \u001b[38;5;21m__init__\u001b[39m(\u001b[38;5;28mself\u001b[39m, game_object):\n\u001b[1;32m     72\u001b[0m     \u001b[38;5;28;01mif\u001b[39;00m \u001b[38;5;129;01mnot\u001b[39;00m \u001b[38;5;28misinstance\u001b[39m(game_object, Game):\n\u001b[0;32m---> 73\u001b[0m         \u001b[38;5;28;01mraise\u001b[39;00m \u001b[38;5;167;01mValueError\u001b[39;00m(\u001b[38;5;124m'\u001b[39m\u001b[38;5;124mPassed value is not a Game object\u001b[39m\u001b[38;5;124m'\u001b[39m)\n\u001b[1;32m     75\u001b[0m     \u001b[38;5;28mself\u001b[39m\u001b[38;5;241m.\u001b[39mgame \u001b[38;5;241m=\u001b[39m game_object\n\u001b[1;32m     77\u001b[0m     \u001b[38;5;28mself\u001b[39m\u001b[38;5;241m.\u001b[39moutcome \u001b[38;5;241m=\u001b[39m game_object\u001b[38;5;241m.\u001b[39m_play_results\n",
      "\u001b[0;31mValueError\u001b[0m: Passed value is not a Game object"
     ]
    }
   ],
   "source": [
    "game = 5\n",
    "Analyzer(game)"
   ]
  },
  {
   "cell_type": "code",
   "execution_count": 156,
   "id": "367a6964-7119-4839-a87d-cbeb08fdc74b",
   "metadata": {
    "tags": []
   },
   "outputs": [],
   "source": [
    "expected = pd.DataFrame([[1, 1], [1, 0]], [1, 2], columns = [1, 2])"
   ]
  },
  {
   "cell_type": "code",
   "execution_count": 157,
   "id": "04bdca24-f17c-4a16-861e-a2760fab2804",
   "metadata": {
    "tags": []
   },
   "outputs": [
    {
     "data": {
      "text/html": [
       "<div>\n",
       "<style scoped>\n",
       "    .dataframe tbody tr th:only-of-type {\n",
       "        vertical-align: middle;\n",
       "    }\n",
       "\n",
       "    .dataframe tbody tr th {\n",
       "        vertical-align: top;\n",
       "    }\n",
       "\n",
       "    .dataframe thead th {\n",
       "        text-align: right;\n",
       "    }\n",
       "</style>\n",
       "<table border=\"1\" class=\"dataframe\">\n",
       "  <thead>\n",
       "    <tr style=\"text-align: right;\">\n",
       "      <th></th>\n",
       "      <th>1</th>\n",
       "      <th>2</th>\n",
       "    </tr>\n",
       "  </thead>\n",
       "  <tbody>\n",
       "    <tr>\n",
       "      <th>1</th>\n",
       "      <td>1</td>\n",
       "      <td>1</td>\n",
       "    </tr>\n",
       "    <tr>\n",
       "      <th>2</th>\n",
       "      <td>1</td>\n",
       "      <td>0</td>\n",
       "    </tr>\n",
       "  </tbody>\n",
       "</table>\n",
       "</div>"
      ],
      "text/plain": [
       "   1  2\n",
       "1  1  1\n",
       "2  1  0"
      ]
     },
     "execution_count": 157,
     "metadata": {},
     "output_type": "execute_result"
    }
   ],
   "source": [
    "expected"
   ]
  },
  {
   "cell_type": "code",
   "execution_count": 220,
   "id": "7359313c-14e0-4ed4-b451-51fc1aea9638",
   "metadata": {
    "tags": []
   },
   "outputs": [],
   "source": [
    "die1 = Die(np.array([1, 2, 3]))\n",
    "die2 = Die(np.array([1, 2, 3]))\n",
    "die_list = [die1, die2]\n",
    "        \n",
    "game1 = Game(die_list)\n",
    "game1.play(3)\n",
    "        \n",
    "analyzer1 = Analyzer(game1)\n",
    "analyzer1.outcome = pd.DataFrame(np.array([[1, 1, 3, 3, 5], [1, 1, 2, 2, 4]]), columns = [1, 2, 3, 4, 5])"
   ]
  },
  {
   "cell_type": "code",
   "execution_count": 214,
   "id": "9fef80df-d896-498f-bf2e-4afc998e1283",
   "metadata": {
    "tags": []
   },
   "outputs": [
    {
     "data": {
      "text/html": [
       "<div>\n",
       "<style scoped>\n",
       "    .dataframe tbody tr th:only-of-type {\n",
       "        vertical-align: middle;\n",
       "    }\n",
       "\n",
       "    .dataframe tbody tr th {\n",
       "        vertical-align: top;\n",
       "    }\n",
       "\n",
       "    .dataframe thead th {\n",
       "        text-align: right;\n",
       "    }\n",
       "</style>\n",
       "<table border=\"1\" class=\"dataframe\">\n",
       "  <thead>\n",
       "    <tr style=\"text-align: right;\">\n",
       "      <th></th>\n",
       "      <th>1</th>\n",
       "      <th>2</th>\n",
       "      <th>3</th>\n",
       "      <th>4</th>\n",
       "      <th>5</th>\n",
       "    </tr>\n",
       "  </thead>\n",
       "  <tbody>\n",
       "    <tr>\n",
       "      <th>0</th>\n",
       "      <td>1</td>\n",
       "      <td>1</td>\n",
       "      <td>3</td>\n",
       "      <td>3</td>\n",
       "      <td>5</td>\n",
       "    </tr>\n",
       "    <tr>\n",
       "      <th>1</th>\n",
       "      <td>1</td>\n",
       "      <td>1</td>\n",
       "      <td>2</td>\n",
       "      <td>2</td>\n",
       "      <td>4</td>\n",
       "    </tr>\n",
       "  </tbody>\n",
       "</table>\n",
       "</div>"
      ],
      "text/plain": [
       "   1  2  3  4  5\n",
       "0  1  1  3  3  5\n",
       "1  1  1  2  2  4"
      ]
     },
     "execution_count": 214,
     "metadata": {},
     "output_type": "execute_result"
    }
   ],
   "source": [
    "analyzer1.outcome"
   ]
  },
  {
   "cell_type": "code",
   "execution_count": 216,
   "id": "d35141d5-eb98-4e12-b815-4a9e5e2efebd",
   "metadata": {
    "tags": []
   },
   "outputs": [
    {
     "data": {
      "text/html": [
       "<div>\n",
       "<style scoped>\n",
       "    .dataframe tbody tr th:only-of-type {\n",
       "        vertical-align: middle;\n",
       "    }\n",
       "\n",
       "    .dataframe tbody tr th {\n",
       "        vertical-align: top;\n",
       "    }\n",
       "\n",
       "    .dataframe thead th {\n",
       "        text-align: right;\n",
       "    }\n",
       "</style>\n",
       "<table border=\"1\" class=\"dataframe\">\n",
       "  <thead>\n",
       "    <tr style=\"text-align: right;\">\n",
       "      <th></th>\n",
       "      <th>1</th>\n",
       "      <th>2</th>\n",
       "      <th>3</th>\n",
       "      <th>4</th>\n",
       "      <th>5</th>\n",
       "    </tr>\n",
       "  </thead>\n",
       "  <tbody>\n",
       "    <tr>\n",
       "      <th>0</th>\n",
       "      <td>2.0</td>\n",
       "      <td>0.0</td>\n",
       "      <td>2.0</td>\n",
       "      <td>0.0</td>\n",
       "      <td>1.0</td>\n",
       "    </tr>\n",
       "    <tr>\n",
       "      <th>1</th>\n",
       "      <td>2.0</td>\n",
       "      <td>2.0</td>\n",
       "      <td>0.0</td>\n",
       "      <td>1.0</td>\n",
       "      <td>0.0</td>\n",
       "    </tr>\n",
       "  </tbody>\n",
       "</table>\n",
       "</div>"
      ],
      "text/plain": [
       "     1    2    3    4    5\n",
       "0  2.0  0.0  2.0  0.0  1.0\n",
       "1  2.0  2.0  0.0  1.0  0.0"
      ]
     },
     "execution_count": 216,
     "metadata": {},
     "output_type": "execute_result"
    }
   ],
   "source": [
    "analyzer1.face_count()"
   ]
  },
  {
   "cell_type": "code",
   "execution_count": 218,
   "id": "f462a02f-fac4-43c0-ad6b-f5e226e0a6f4",
   "metadata": {
    "tags": []
   },
   "outputs": [],
   "source": [
    "test = pd.DataFrame(np.array([[2.0, 0.0, 2.0, 0.0, 1.0], [2.0, 2.0, 0.0, 1.0, 0.0]]), columns = [1, 2, 3, 4, 5])"
   ]
  },
  {
   "cell_type": "code",
   "execution_count": 221,
   "id": "cc9a4ccc-2c85-4434-a231-c4b984313657",
   "metadata": {
    "tags": []
   },
   "outputs": [
    {
     "data": {
      "text/plain": [
       "True"
      ]
     },
     "execution_count": 221,
     "metadata": {},
     "output_type": "execute_result"
    }
   ],
   "source": [
    "analyzer1.face_count().equals(test)"
   ]
  },
  {
   "cell_type": "code",
   "execution_count": 166,
   "id": "858df3b9-cea5-4bc8-9902-000e74e045b3",
   "metadata": {
    "tags": []
   },
   "outputs": [
    {
     "data": {
      "text/plain": [
       "True"
      ]
     },
     "execution_count": 166,
     "metadata": {},
     "output_type": "execute_result"
    }
   ],
   "source": [
    "die1 = Die(np.array([1, 2, 3]))\n",
    "die2 = Die(np.array([1, 2, 3]))\n",
    "die_list = [die1, die2]\n",
    "        \n",
    "game1 = Game(die_list)\n",
    "game1.play(3)\n",
    "        \n",
    "expected = (3, 2)\n",
    "\n",
    "game1.last_round().shape == expected"
   ]
  },
  {
   "cell_type": "code",
   "execution_count": 222,
   "id": "63cf4c22-f079-4822-ae8c-b72337f8f3a0",
   "metadata": {
    "tags": []
   },
   "outputs": [],
   "source": [
    "die1 = Die(np.array([1, 2, 3]))\n",
    "die2 = Die(np.array([1, 2, 3]))\n",
    "die_list = [die1, die2]\n",
    "        \n",
    "game1 = Game(die_list)\n",
    "game1.play(3)\n",
    "        \n",
    "analyzer1 = Analyzer(game1)\n",
    "analyzer1.outcome = pd.DataFrame(np.array([[1, 2, 3], [3, 2, 1]]), columns = [1, 2, 3])"
   ]
  },
  {
   "cell_type": "code",
   "execution_count": 236,
   "id": "4e72f4c7-d477-4ebd-824f-b941167ae5c6",
   "metadata": {
    "tags": []
   },
   "outputs": [
    {
     "data": {
      "text/plain": [
       "True"
      ]
     },
     "execution_count": 236,
     "metadata": {},
     "output_type": "execute_result"
    }
   ],
   "source": [
    "analyzer1.combo_count().shape == (1, 1)"
   ]
  },
  {
   "cell_type": "code",
   "execution_count": 237,
   "id": "590beaf8-f491-4412-8e55-6ce235f326a2",
   "metadata": {
    "tags": []
   },
   "outputs": [
    {
     "data": {
      "text/plain": [
       "True"
      ]
     },
     "execution_count": 237,
     "metadata": {},
     "output_type": "execute_result"
    }
   ],
   "source": [
    "analyzer1.permutation_count().shape == (2, 1)"
   ]
  },
  {
   "cell_type": "code",
   "execution_count": 253,
   "id": "633563fe-1830-4819-801b-669663fa1def",
   "metadata": {},
   "outputs": [],
   "source": [
    "die1 = Die(np.array([1, 2, 3]))\n",
    "die1.change_side_weight(1, 4)\n",
    "        \n",
    "expected = 4\n",
    "        \n",
    "#self.assertEqual(die1._faces_weights.loc[1], expected)"
   ]
  },
  {
   "cell_type": "code",
   "execution_count": 254,
   "id": "35d3b422-756c-485b-91c3-0bfaa986d735",
   "metadata": {
    "tags": []
   },
   "outputs": [
    {
     "data": {
      "text/html": [
       "<div>\n",
       "<style scoped>\n",
       "    .dataframe tbody tr th:only-of-type {\n",
       "        vertical-align: middle;\n",
       "    }\n",
       "\n",
       "    .dataframe tbody tr th {\n",
       "        vertical-align: top;\n",
       "    }\n",
       "\n",
       "    .dataframe thead th {\n",
       "        text-align: right;\n",
       "    }\n",
       "</style>\n",
       "<table border=\"1\" class=\"dataframe\">\n",
       "  <thead>\n",
       "    <tr style=\"text-align: right;\">\n",
       "      <th></th>\n",
       "      <th>weight</th>\n",
       "    </tr>\n",
       "  </thead>\n",
       "  <tbody>\n",
       "    <tr>\n",
       "      <th>1</th>\n",
       "      <td>4.0</td>\n",
       "    </tr>\n",
       "    <tr>\n",
       "      <th>2</th>\n",
       "      <td>1.0</td>\n",
       "    </tr>\n",
       "    <tr>\n",
       "      <th>3</th>\n",
       "      <td>1.0</td>\n",
       "    </tr>\n",
       "  </tbody>\n",
       "</table>\n",
       "</div>"
      ],
      "text/plain": [
       "   weight\n",
       "1     4.0\n",
       "2     1.0\n",
       "3     1.0"
      ]
     },
     "execution_count": 254,
     "metadata": {},
     "output_type": "execute_result"
    }
   ],
   "source": [
    "die1.current_state()"
   ]
  },
  {
   "cell_type": "code",
   "execution_count": 282,
   "id": "b495d285-2f59-4a8a-b474-d9458707bbc4",
   "metadata": {
    "tags": []
   },
   "outputs": [
    {
     "data": {
      "text/plain": [
       "True"
      ]
     },
     "execution_count": 282,
     "metadata": {},
     "output_type": "execute_result"
    }
   ],
   "source": [
    "die1._faces_weights.weight[1] == 4"
   ]
  },
  {
   "cell_type": "code",
   "execution_count": null,
   "id": "e3d72868-53f7-4aeb-bcc7-fabbefc8f15b",
   "metadata": {},
   "outputs": [],
   "source": []
  }
 ],
 "metadata": {
  "kernelspec": {
   "display_name": "Python 3 (ipykernel)",
   "language": "python",
   "name": "python3"
  },
  "language_info": {
   "codemirror_mode": {
    "name": "ipython",
    "version": 3
   },
   "file_extension": ".py",
   "mimetype": "text/x-python",
   "name": "python",
   "nbconvert_exporter": "python",
   "pygments_lexer": "ipython3",
   "version": "3.11.4"
  }
 },
 "nbformat": 4,
 "nbformat_minor": 5
}
