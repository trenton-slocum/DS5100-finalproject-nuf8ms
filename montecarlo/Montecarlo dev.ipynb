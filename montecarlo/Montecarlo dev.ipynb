{
 "cells": [
  {
   "cell_type": "code",
   "execution_count": 4,
   "id": "3b4e9b9c-6e69-4772-a39b-2beaa3254293",
   "metadata": {
    "tags": []
   },
   "outputs": [],
   "source": [
    "import numpy as np\n",
    "import pandas as pd"
   ]
  },
  {
   "cell_type": "code",
   "execution_count": 9,
   "id": "3344b0fe-8445-4079-b8c0-2ee1e7236d16",
   "metadata": {
    "tags": []
   },
   "outputs": [],
   "source": [
    "class Die():\n",
    "    '''\n",
    "    Docstring\n",
    "    '''\n",
    "    def __init__(self, face_symbols):\n",
    "        if isinstance(face_symbols, np.ndarray):\n",
    "            if face_symbols.dtype.char == U:\n",
    "                \n",
    "        else:\n",
    "            raise TypeError('Face Argument must be NumPy array')\n",
    "            \n",
    "    \n",
    "    def initializer():\n",
    "        pass\n",
    "    \n",
    "    def change_side_weight():\n",
    "        pass\n",
    "    \n",
    "    def roll():\n",
    "        pass\n",
    "    \n",
    "    def current_state():\n",
    "        pass"
   ]
  },
  {
   "cell_type": "code",
   "execution_count": 18,
   "id": "0dfd6f89-505b-4eb0-9c58-710a73cfd5bc",
   "metadata": {
    "tags": []
   },
   "outputs": [
    {
     "data": {
      "text/plain": [
       "dtype('<U7')"
      ]
     },
     "execution_count": 18,
     "metadata": {},
     "output_type": "execute_result"
    }
   ],
   "source": [
    "i = np.array(['hhhhhhh', 'gggggg'])\n",
    "i.dtype"
   ]
  },
  {
   "cell_type": "code",
   "execution_count": null,
   "id": "f3ed738c-f159-4da9-ac28-d2c4d0d4384f",
   "metadata": {},
   "outputs": [],
   "source": []
  }
 ],
 "metadata": {
  "kernelspec": {
   "display_name": "Python 3 (ipykernel)",
   "language": "python",
   "name": "python3"
  },
  "language_info": {
   "codemirror_mode": {
    "name": "ipython",
    "version": 3
   },
   "file_extension": ".py",
   "mimetype": "text/x-python",
   "name": "python",
   "nbconvert_exporter": "python",
   "pygments_lexer": "ipython3",
   "version": "3.11.4"
  }
 },
 "nbformat": 4,
 "nbformat_minor": 5
}
